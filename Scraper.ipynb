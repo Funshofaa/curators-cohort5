{
 "cells": [
  {
   "cell_type": "code",
   "execution_count": 26,
   "metadata": {},
   "outputs": [],
   "source": [
    "import urllib\n",
    "import csv\n",
    "from bs4 import BeautifulSoup\n",
    "from urllib.request import urlopen"
   ]
  },
  {
   "cell_type": "code",
   "execution_count": 1,
   "metadata": {},
   "outputs": [
    {
     "ename": "NameError",
     "evalue": "name 'urlopen' is not defined",
     "output_type": "error",
     "traceback": [
      "\u001b[0;31m---------------------------------------------------------------------------\u001b[0m",
      "\u001b[0;31mNameError\u001b[0m                                 Traceback (most recent call last)",
      "\u001b[0;32m<ipython-input-1-30a14c264cd5>\u001b[0m in \u001b[0;36m<module>\u001b[0;34m()\u001b[0m\n\u001b[1;32m      1\u001b[0m \u001b[0;31m#Create a variable for the url of the page to scrape and open the URL\u001b[0m\u001b[0;34m\u001b[0m\u001b[0;34m\u001b[0m\u001b[0m\n\u001b[1;32m      2\u001b[0m \u001b[0mpage_to_scrape\u001b[0m \u001b[0;34m=\u001b[0m \u001b[0;34m\"https://www.olx.com.ng/vehicles_c362\"\u001b[0m\u001b[0;34m\u001b[0m\u001b[0m\n\u001b[0;32m----> 3\u001b[0;31m \u001b[0mpage\u001b[0m \u001b[0;34m=\u001b[0m \u001b[0murlopen\u001b[0m\u001b[0;34m(\u001b[0m\u001b[0mpage_to_scrape\u001b[0m\u001b[0;34m)\u001b[0m\u001b[0;34m.\u001b[0m\u001b[0mread\u001b[0m\u001b[0;34m(\u001b[0m\u001b[0;34m)\u001b[0m\u001b[0;34m\u001b[0m\u001b[0m\n\u001b[0m\u001b[1;32m      4\u001b[0m \u001b[0;34m\u001b[0m\u001b[0m\n\u001b[1;32m      5\u001b[0m \u001b[0;31m# Parse the HTML page\u001b[0m\u001b[0;34m\u001b[0m\u001b[0;34m\u001b[0m\u001b[0m\n",
      "\u001b[0;31mNameError\u001b[0m: name 'urlopen' is not defined"
     ]
    }
   ],
   "source": [
    "#Create a variable for the url of the page to scrape and open the URL\n",
    "page_to_scrape = \"https://www.olx.com.ng/vehicles_c362\"\n",
    "page = urlopen(page_to_scrape).read()\n",
    "\n",
    "# Parse the HTML page\n",
    "parsed_html = BeautifulSoup(page, 'html.parser')\n",
    "\n",
    "# Get the big box content\n",
    "name_box = parsed_html.find_all('li', class_ =  '_2TnsU')\n",
    "\n",
    "scraped = []\n",
    "# Get all the car name on the page with a loop\n",
    "for i in range(len(name_box)):\n",
    "    # p  _13OzP\n",
    "    # Find the small text inside the Big Box content above \n",
    "    name = name_box[i].find('p', class_ = '_2uySz')\n",
    "    price = name_box[i].find('p', class_ = '_13OzP')\n",
    "\n",
    "    # Get the Content from the markup codes of the name: \n",
    "    name  = name.text.strip()\n",
    "    price = price.text.strip()\n",
    "    scraped.append(name,price)\n",
    "\n",
    "# name  = name.text.strip()\n",
    "print(\"Scraped!!!\")\n",
    "print(\"Total Data: \", str(len(scraped)))\n",
    "print(\"Data Scraped: \", scraped)\n",
    "\n",
    "# open a csv file with append, so old data will not be erased\n",
    "#with open(‘index.csv’, ‘w+’) as csv_file:\n",
    " #writer = csv.writer(csv_file)\n",
    "    \n",
    "myFile = open('index.csv', 'w+')\n",
    "with myFile:\n",
    "    writer = csv.writer(myFile)\n",
    "    writer.writerows(scraped)\n"
   ]
  },
  {
   "cell_type": "code",
   "execution_count": null,
   "metadata": {},
   "outputs": [],
   "source": []
  }
 ],
 "metadata": {
  "kernelspec": {
   "display_name": "Python 2",
   "language": "python",
   "name": "python2"
  },
  "language_info": {
   "codemirror_mode": {
    "name": "ipython",
    "version": 2
   },
   "file_extension": ".py",
   "mimetype": "text/x-python",
   "name": "python",
   "nbconvert_exporter": "python",
   "pygments_lexer": "ipython2",
   "version": "2.7.14"
  }
 },
 "nbformat": 4,
 "nbformat_minor": 2
}
